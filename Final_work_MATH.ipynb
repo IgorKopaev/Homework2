{
 "cells": [
  {
   "cell_type": "code",
   "execution_count": 1,
   "id": "e5995927",
   "metadata": {},
   "outputs": [],
   "source": [
    "import matplotlib.pyplot as plt\n",
    "import numpy as np\n",
    "\n",
    "from scipy.optimize import minimize\n",
    "%matplotlib inline"
   ]
  },
  {
   "cell_type": "markdown",
   "id": "12e6062d",
   "metadata": {},
   "source": [
    "# Задание 1"
   ]
  },
  {
   "cell_type": "code",
   "execution_count": 2,
   "id": "85adfc76",
   "metadata": {},
   "outputs": [],
   "source": [
    "raitings = np.array([[ 4,  4,  9,  4,  1,  6, 10,  7,  9,  6,  9,  2,  8,  6,  6],\n",
    "                     [ 9,  2,  5, 10,  7,  8, 10,  5,  6,  2,  1,  6,  8,  9,  7],\n",
    "                     [ 1,  6,  8,  8,  4,  9,  3,  8, 10,  5,  2,  6,  8,  1,  6],\n",
    "                     [ 6,  1,  9,  7,  7,  9,  2,  3,  5,  1,  6,  6,  3,  2,  7],\n",
    "                     [ 3,  7,  3,  5,  7,  9,  9,  6,  2,  9,  1,  2,  8, 10,  6],\n",
    "                     [ 8,  3,  7,  3,  8,  6,  1,  8,  8,  6,  1,  9,  4, 10,  1],\n",
    "                     [ 9,  8,  4,  8,  8, 10,  6,  1,  1,  2,  9,  5,  2,  7,  2],\n",
    "                     [ 4,  1,  6,  4,  3, 10,  4,  4,  2,  8,  7,  9,  3,  8,  3],\n",
    "                     [ 2,  7,  7,  6, 10,  6,  8,  9,  8,  6, 10,  1,  7, 10,  4],\n",
    "                     [ 5, 10,  8,  8,  9,  7,  2,  9,  9, 10,  8,  8,  8,  6, 10]])"
   ]
  },
  {
   "cell_type": "markdown",
   "id": "e66f6f52",
   "metadata": {},
   "source": [
    "A)"
   ]
  },
  {
   "cell_type": "code",
   "execution_count": 42,
   "id": "40426efc",
   "metadata": {},
   "outputs": [],
   "source": [
    "man = raitings[1]"
   ]
  },
  {
   "cell_type": "code",
   "execution_count": 50,
   "id": "c7ae0308",
   "metadata": {},
   "outputs": [],
   "source": [
    "def similarity(man):\n",
    "    alfa_list = []\n",
    "    for r in raitings:\n",
    "        alfa = np.rad2deg(np.arccos(np.dot(man, r) / (np.linalg.norm(man) * np.linalg.norm(r))))\n",
    "        alfa_list.append(alfa)\n",
    "    similar_deegre = sorted(alfa_list)[1]\n",
    "    similar_man = alfa_list.index(similar_deegre) + 1\n",
    "    return similar_man"
   ]
  },
  {
   "cell_type": "code",
   "execution_count": 55,
   "id": "86957ffd",
   "metadata": {},
   "outputs": [
    {
     "name": "stderr",
     "output_type": "stream",
     "text": [
      "<ipython-input-50-75c71c420a70>:4: RuntimeWarning: invalid value encountered in arccos\n",
      "  alfa = np.rad2deg(np.arccos(np.dot(man, r) / (np.linalg.norm(man) * np.linalg.norm(r))))\n"
     ]
    },
    {
     "data": {
      "text/plain": [
       "[[1, 9],\n",
       " [2, 5],\n",
       " [3, 10],\n",
       " [4, 10],\n",
       " [5, 9],\n",
       " [6, 10],\n",
       " [7, 4],\n",
       " [8, 10],\n",
       " [9, 1],\n",
       " [10, 3]]"
      ]
     },
     "execution_count": 55,
     "metadata": {},
     "output_type": "execute_result"
    }
   ],
   "source": [
    "i = 1\n",
    "results = []\n",
    "for man in raitings:\n",
    "    result = []\n",
    "    a = similarity(man)\n",
    "    result.append(i)\n",
    "    result.append(a)            \n",
    "    results.append(result)\n",
    "    i += 1\n",
    "results"
   ]
  },
  {
   "cell_type": "markdown",
   "id": "35861f94",
   "metadata": {},
   "source": [
    "Б)"
   ]
  },
  {
   "cell_type": "markdown",
   "id": "d0f0c8fb",
   "metadata": {},
   "source": [
    "# Задание 2"
   ]
  },
  {
   "cell_type": "code",
   "execution_count": 56,
   "id": "50e83aae",
   "metadata": {},
   "outputs": [
    {
     "data": {
      "text/plain": [
       "55.3859176464222"
      ]
     },
     "execution_count": 56,
     "metadata": {},
     "output_type": "execute_result"
    }
   ],
   "source": [
    "import sympy as sym\n",
    "from scipy.misc import derivative\n",
    "def f(t):\n",
    "    return np.tan(np.sin(t)+np.cos(2*t+3))**2\n",
    "derivative(f, 1.0, dx=1e-6)"
   ]
  },
  {
   "cell_type": "markdown",
   "id": "983e5bbe",
   "metadata": {},
   "source": [
    "# Задание 3"
   ]
  },
  {
   "cell_type": "code",
   "execution_count": 57,
   "id": "8360bd6b",
   "metadata": {},
   "outputs": [],
   "source": [
    "def f(x, a, b):\n",
    "    return np.e**a * np.sin(b*x) + x"
   ]
  },
  {
   "cell_type": "code",
   "execution_count": 58,
   "id": "0a64a2af",
   "metadata": {},
   "outputs": [],
   "source": [
    "x = np.array([0.        , 0.26315789, 0.52631579, 0.78947368, 1.05263158,\n",
    "              1.31578947, 1.57894737, 1.84210526, 2.10526316, 2.36842105,\n",
    "              2.63157895, 2.89473684, 3.15789474, 3.42105263, 3.68421053,\n",
    "              3.94736842, 4.21052632, 4.47368421, 4.73684211, 5.        ])"
   ]
  },
  {
   "cell_type": "code",
   "execution_count": 59,
   "id": "afc81f95",
   "metadata": {},
   "outputs": [],
   "source": [
    "fx = np.array([  0.        , -12.01819092, -18.90968634, -17.68786571,\n",
    "                -8.7529108 ,   4.27524517,  16.06801336,  21.81250213,\n",
    "                19.22059845,   9.48411207,  -3.22273056, -13.48576488,\n",
    "               -16.91096359, -11.95866834,  -0.58630088,  12.56873816,\n",
    "                22.12489421,  24.20292139,  18.04522521,   6.33211092])"
   ]
  },
  {
   "cell_type": "code",
   "execution_count": 60,
   "id": "2c1ffe4b",
   "metadata": {},
   "outputs": [
    {
     "data": {
      "image/png": "[encoded data removed]",
      "text/plain": [
       "<Figure size 432x288 with 1 Axes>"
      ]
     },
     "metadata": {
      "needs_background": "light"
     },
     "output_type": "display_data"
    }
   ],
   "source": [
    "plt.plot(x, fx)\n",
    "plt.show()"
   ]
  },
  {
   "cell_type": "code",
   "execution_count": 101,
   "id": "c7e467cd",
   "metadata": {},
   "outputs": [],
   "source": [
    "def error(params):\n",
    "    return np.sum(np.abs(fx - f(x, params[0], params[1])))"
   ]
  },
  {
   "cell_type": "code",
   "execution_count": 105,
   "id": "6ecd8daf",
   "metadata": {},
   "outputs": [],
   "source": [
    "x0 = np.random.uniform(low=0,high=2,size=(2,))"
   ]
  },
  {
   "cell_type": "code",
   "execution_count": 106,
   "id": "c20d293c",
   "metadata": {},
   "outputs": [
    {
     "name": "stdout",
     "output_type": "stream",
     "text": [
      "Optimization terminated successfully.\n",
      "         Current function value: 228.356720\n",
      "         Iterations: 77\n",
      "         Function evaluations: 147\n"
     ]
    }
   ],
   "source": [
    "res = minimize(error, x0,  method='nelder-mead',options={'disp':True})"
   ]
  },
  {
   "cell_type": "code",
   "execution_count": 109,
   "id": "b257bf77",
   "metadata": {},
   "outputs": [
    {
     "data": {
      "text/plain": [
       "array([1.95284731, 1.56623991])"
      ]
     },
     "execution_count": 109,
     "metadata": {},
     "output_type": "execute_result"
    }
   ],
   "source": [
    "res.x"
   ]
  },
  {
   "cell_type": "code",
   "execution_count": 111,
   "id": "22f8cf6b",
   "metadata": {},
   "outputs": [
    {
     "data": {
      "text/plain": [
       " final_simplex: (array([[1.95284731, 1.56623991],\n",
       "       [1.95281484, 1.56625839],\n",
       "       [1.95293071, 1.56619273]]), array([228.35671982, 228.35672015, 228.35672065]))\n",
       "           fun: 228.3567198249596\n",
       "       message: 'Optimization terminated successfully.'\n",
       "          nfev: 147\n",
       "           nit: 77\n",
       "        status: 0\n",
       "       success: True\n",
       "             x: array([1.95284731, 1.56623991])"
      ]
     },
     "execution_count": 111,
     "metadata": {},
     "output_type": "execute_result"
    }
   ],
   "source": [
    "res"
   ]
  },
  {
   "cell_type": "code",
   "execution_count": 108,
   "id": "3297d9e1",
   "metadata": {},
   "outputs": [
    {
     "data": {
      "text/plain": [
       "[<matplotlib.lines.Line2D at 0x177f4cdad60>]"
      ]
     },
     "execution_count": 108,
     "metadata": {},
     "output_type": "execute_result"
    },
    {
     "data": {
      "image/png": "[encoded data removed]",
      "text/plain": [
       "<Figure size 432x288 with 1 Axes>"
      ]
     },
     "metadata": {
      "needs_background": "light"
     },
     "output_type": "display_data"
    }
   ],
   "source": [
    "plt.plot(f(x, res.x[0], res.x[1]))"
   ]
  },
  {
   "cell_type": "markdown",
   "id": "1ae36e05",
   "metadata": {},
   "source": [
    "# Задание 4"
   ]
  },
  {
   "cell_type": "code",
   "execution_count": 62,
   "id": "b3238982",
   "metadata": {},
   "outputs": [],
   "source": [
    "elem = [7, 12, 2, 9, 15, 1]\n",
    "prob = [0.05, 0.15, 0.3, 0.2, 0.2, 0.1]"
   ]
  },
  {
   "cell_type": "code",
   "execution_count": 63,
   "id": "364ea2f2",
   "metadata": {},
   "outputs": [
    {
     "data": {
      "text/plain": [
       "array([ 9,  2,  2,  2, 15,  2, 12,  9, 12, 12,  9, 12,  2,  2,  2,  9,  9,\n",
       "       12,  2,  2])"
      ]
     },
     "execution_count": 63,
     "metadata": {},
     "output_type": "execute_result"
    }
   ],
   "source": [
    "np.random.choice(elem, 20, p=prob)"
   ]
  },
  {
   "cell_type": "code",
   "execution_count": 72,
   "id": "5227ef31",
   "metadata": {},
   "outputs": [
    {
     "data": {
      "image/png": "[encoded data removed]",
      "text/plain": [
       "<Figure size 432x288 with 1 Axes>"
      ]
     },
     "metadata": {
      "needs_background": "light"
     },
     "output_type": "display_data"
    }
   ],
   "source": [
    "mList=[];\n",
    "for kk in range(1000):\n",
    "    data = np.random.choice(elem, 50, p=prob)\n",
    "    mList.append(data.mean())\n",
    "plt.hist(x=mList, bins=20)\n",
    "plt.grid()\n",
    "plt.show()"
   ]
  },
  {
   "cell_type": "markdown",
   "id": "de658802",
   "metadata": {},
   "source": [
    "# Задание 5"
   ]
  },
  {
   "cell_type": "code",
   "execution_count": 73,
   "id": "1a7e53dc",
   "metadata": {},
   "outputs": [
    {
     "name": "stdout",
     "output_type": "stream",
     "text": [
      "[[1 4]\n",
      " [1 1]]\n"
     ]
    }
   ],
   "source": [
    "m = np.array([[1, 4],\n",
    "              [1, 1]])\n",
    "print(m)"
   ]
  },
  {
   "cell_type": "code",
   "execution_count": 75,
   "id": "c5c0b774",
   "metadata": {},
   "outputs": [
    {
     "data": {
      "text/plain": [
       "(array([ 3., -1.]),\n",
       " array([[ 0.89442719, -0.89442719],\n",
       "        [ 0.4472136 ,  0.4472136 ]]))"
      ]
     },
     "execution_count": 75,
     "metadata": {},
     "output_type": "execute_result"
    }
   ],
   "source": [
    "np.linalg.eig(m)"
   ]
  },
  {
   "cell_type": "code",
   "execution_count": null,
   "id": "7d90202f",
   "metadata": {},
   "outputs": [],
   "source": []
  }
 ],
 "metadata": {
  "kernelspec": {
   "display_name": "Python 3",
   "language": "python",
   "name": "python3"
  },
  "language_info": {
   "codemirror_mode": {
    "name": "ipython",
    "version": 3
   },
   "file_extension": ".py",
   "mimetype": "text/x-python",
   "name": "python",
   "nbconvert_exporter": "python",
   "pygments_lexer": "ipython3",
   "version": "3.8.8"
  }
 },
 "nbformat": 4,
 "nbformat_minor": 5
}
