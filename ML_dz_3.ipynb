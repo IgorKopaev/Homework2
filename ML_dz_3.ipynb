{
 "cells": [
  {
   "cell_type": "code",
   "execution_count": 1,
   "id": "29f1206e",
   "metadata": {},
   "outputs": [],
   "source": [
    "import pandas as pd"
   ]
  },
  {
   "cell_type": "code",
   "execution_count": 3,
   "id": "2df583ab",
   "metadata": {},
   "outputs": [],
   "source": [
    "df = pd.read_csv('athletes.csv')"
   ]
  },
  {
   "cell_type": "code",
   "execution_count": 4,
   "id": "755316fd",
   "metadata": {},
   "outputs": [
    {
     "data": {
      "text/html": [
       "<div>\n",
       "<style scoped>\n",
       "    .dataframe tbody tr th:only-of-type {\n",
       "        vertical-align: middle;\n",
       "    }\n",
       "\n",
       "    .dataframe tbody tr th {\n",
       "        vertical-align: top;\n",
       "    }\n",
       "\n",
       "    .dataframe thead th {\n",
       "        text-align: right;\n",
       "    }\n",
       "</style>\n",
       "<table border=\"1\" class=\"dataframe\">\n",
       "  <thead>\n",
       "    <tr style=\"text-align: right;\">\n",
       "      <th></th>\n",
       "      <th>id</th>\n",
       "      <th>name</th>\n",
       "      <th>nationality</th>\n",
       "      <th>sex</th>\n",
       "      <th>dob</th>\n",
       "      <th>height</th>\n",
       "      <th>weight</th>\n",
       "      <th>sport</th>\n",
       "      <th>gold</th>\n",
       "      <th>silver</th>\n",
       "      <th>bronze</th>\n",
       "    </tr>\n",
       "  </thead>\n",
       "  <tbody>\n",
       "    <tr>\n",
       "      <th>0</th>\n",
       "      <td>736041664</td>\n",
       "      <td>A Jesus Garcia</td>\n",
       "      <td>ESP</td>\n",
       "      <td>male</td>\n",
       "      <td>10/17/69</td>\n",
       "      <td>1.72</td>\n",
       "      <td>64.0</td>\n",
       "      <td>athletics</td>\n",
       "      <td>0</td>\n",
       "      <td>0</td>\n",
       "      <td>0</td>\n",
       "    </tr>\n",
       "    <tr>\n",
       "      <th>1</th>\n",
       "      <td>532037425</td>\n",
       "      <td>A Lam Shin</td>\n",
       "      <td>KOR</td>\n",
       "      <td>female</td>\n",
       "      <td>9/23/86</td>\n",
       "      <td>1.68</td>\n",
       "      <td>56.0</td>\n",
       "      <td>fencing</td>\n",
       "      <td>0</td>\n",
       "      <td>0</td>\n",
       "      <td>0</td>\n",
       "    </tr>\n",
       "    <tr>\n",
       "      <th>2</th>\n",
       "      <td>435962603</td>\n",
       "      <td>Aaron Brown</td>\n",
       "      <td>CAN</td>\n",
       "      <td>male</td>\n",
       "      <td>5/27/92</td>\n",
       "      <td>1.98</td>\n",
       "      <td>79.0</td>\n",
       "      <td>athletics</td>\n",
       "      <td>0</td>\n",
       "      <td>0</td>\n",
       "      <td>1</td>\n",
       "    </tr>\n",
       "    <tr>\n",
       "      <th>3</th>\n",
       "      <td>521041435</td>\n",
       "      <td>Aaron Cook</td>\n",
       "      <td>MDA</td>\n",
       "      <td>male</td>\n",
       "      <td>1/2/91</td>\n",
       "      <td>1.83</td>\n",
       "      <td>80.0</td>\n",
       "      <td>taekwondo</td>\n",
       "      <td>0</td>\n",
       "      <td>0</td>\n",
       "      <td>0</td>\n",
       "    </tr>\n",
       "    <tr>\n",
       "      <th>4</th>\n",
       "      <td>33922579</td>\n",
       "      <td>Aaron Gate</td>\n",
       "      <td>NZL</td>\n",
       "      <td>male</td>\n",
       "      <td>11/26/90</td>\n",
       "      <td>1.81</td>\n",
       "      <td>71.0</td>\n",
       "      <td>cycling</td>\n",
       "      <td>0</td>\n",
       "      <td>0</td>\n",
       "      <td>0</td>\n",
       "    </tr>\n",
       "  </tbody>\n",
       "</table>\n",
       "</div>"
      ],
      "text/plain": [
       "          id            name nationality     sex       dob  height  weight  \\\n",
       "0  736041664  A Jesus Garcia         ESP    male  10/17/69    1.72    64.0   \n",
       "1  532037425      A Lam Shin         KOR  female   9/23/86    1.68    56.0   \n",
       "2  435962603     Aaron Brown         CAN    male   5/27/92    1.98    79.0   \n",
       "3  521041435      Aaron Cook         MDA    male    1/2/91    1.83    80.0   \n",
       "4   33922579      Aaron Gate         NZL    male  11/26/90    1.81    71.0   \n",
       "\n",
       "       sport  gold  silver  bronze  \n",
       "0  athletics     0       0       0  \n",
       "1    fencing     0       0       0  \n",
       "2  athletics     0       0       1  \n",
       "3  taekwondo     0       0       0  \n",
       "4    cycling     0       0       0  "
      ]
     },
     "execution_count": 4,
     "metadata": {},
     "output_type": "execute_result"
    }
   ],
   "source": [
    "df.head()"
   ]
  },
  {
   "cell_type": "code",
   "execution_count": 5,
   "id": "c8f106b8",
   "metadata": {},
   "outputs": [
    {
     "name": "stdout",
     "output_type": "stream",
     "text": [
      "<class 'pandas.core.frame.DataFrame'>\n",
      "RangeIndex: 11538 entries, 0 to 11537\n",
      "Data columns (total 11 columns):\n",
      " #   Column       Non-Null Count  Dtype  \n",
      "---  ------       --------------  -----  \n",
      " 0   id           11538 non-null  int64  \n",
      " 1   name         11538 non-null  object \n",
      " 2   nationality  11538 non-null  object \n",
      " 3   sex          11538 non-null  object \n",
      " 4   dob          11537 non-null  object \n",
      " 5   height       11208 non-null  float64\n",
      " 6   weight       10879 non-null  float64\n",
      " 7   sport        11538 non-null  object \n",
      " 8   gold         11538 non-null  int64  \n",
      " 9   silver       11538 non-null  int64  \n",
      " 10  bronze       11538 non-null  int64  \n",
      "dtypes: float64(2), int64(4), object(5)\n",
      "memory usage: 991.7+ KB\n"
     ]
    }
   ],
   "source": [
    "df.info()"
   ]
  },
  {
   "cell_type": "code",
   "execution_count": 12,
   "id": "5d6320fb",
   "metadata": {},
   "outputs": [
    {
     "data": {
      "text/plain": [
       "<AxesSubplot:ylabel='Frequency'>"
      ]
     },
     "execution_count": 12,
     "metadata": {},
     "output_type": "execute_result"
    },
    {
     "data": {
      "image/png": "[encoded data removed]",
      "text/plain": [
       "<Figure size 432x288 with 1 Axes>"
      ]
     },
     "metadata": {
      "needs_background": "light"
     },
     "output_type": "display_data"
    }
   ],
   "source": [
    "df['weight'].plot(kind='hist', bins=20)"
   ]
  },
  {
   "cell_type": "code",
   "execution_count": 13,
   "id": "ee42345d",
   "metadata": {},
   "outputs": [
    {
     "data": {
      "text/plain": [
       "<AxesSubplot:ylabel='Frequency'>"
      ]
     },
     "execution_count": 13,
     "metadata": {},
     "output_type": "execute_result"
    },
    {
     "data": {
      "image/png": "[encoded data removed]",
      "text/plain": [
       "<Figure size 432x288 with 1 Axes>"
      ]
     },
     "metadata": {
      "needs_background": "light"
     },
     "output_type": "display_data"
    }
   ],
   "source": [
    "df['height'].plot(kind='hist', bins=20)"
   ]
  },
  {
   "cell_type": "code",
   "execution_count": 21,
   "id": "04f20268",
   "metadata": {},
   "outputs": [
    {
     "data": {
      "text/html": [
       "<div>\n",
       "<style scoped>\n",
       "    .dataframe tbody tr th:only-of-type {\n",
       "        vertical-align: middle;\n",
       "    }\n",
       "\n",
       "    .dataframe tbody tr th {\n",
       "        vertical-align: top;\n",
       "    }\n",
       "\n",
       "    .dataframe thead th {\n",
       "        text-align: right;\n",
       "    }\n",
       "</style>\n",
       "<table border=\"1\" class=\"dataframe\">\n",
       "  <thead>\n",
       "    <tr style=\"text-align: right;\">\n",
       "      <th></th>\n",
       "      <th>id</th>\n",
       "      <th>name</th>\n",
       "      <th>nationality</th>\n",
       "      <th>sex</th>\n",
       "      <th>dob</th>\n",
       "      <th>height</th>\n",
       "      <th>weight</th>\n",
       "      <th>sport</th>\n",
       "      <th>gold</th>\n",
       "      <th>silver</th>\n",
       "      <th>bronze</th>\n",
       "    </tr>\n",
       "  </thead>\n",
       "  <tbody>\n",
       "    <tr>\n",
       "      <th>12</th>\n",
       "      <td>258556239</td>\n",
       "      <td>Abbas Qali</td>\n",
       "      <td>IOA</td>\n",
       "      <td>male</td>\n",
       "      <td>10/11/92</td>\n",
       "      <td>0.00</td>\n",
       "      <td>0.0</td>\n",
       "      <td>aquatics</td>\n",
       "      <td>0</td>\n",
       "      <td>0</td>\n",
       "      <td>0</td>\n",
       "    </tr>\n",
       "    <tr>\n",
       "      <th>28</th>\n",
       "      <td>349871091</td>\n",
       "      <td>Abdelhafid Benchabla</td>\n",
       "      <td>ALG</td>\n",
       "      <td>male</td>\n",
       "      <td>9/26/86</td>\n",
       "      <td>1.86</td>\n",
       "      <td>0.0</td>\n",
       "      <td>boxing</td>\n",
       "      <td>0</td>\n",
       "      <td>0</td>\n",
       "      <td>0</td>\n",
       "    </tr>\n",
       "    <tr>\n",
       "      <th>30</th>\n",
       "      <td>23564778</td>\n",
       "      <td>Abdelkader Chadi</td>\n",
       "      <td>ALG</td>\n",
       "      <td>male</td>\n",
       "      <td>12/12/86</td>\n",
       "      <td>1.78</td>\n",
       "      <td>0.0</td>\n",
       "      <td>boxing</td>\n",
       "      <td>0</td>\n",
       "      <td>0</td>\n",
       "      <td>0</td>\n",
       "    </tr>\n",
       "    <tr>\n",
       "      <th>37</th>\n",
       "      <td>934545704</td>\n",
       "      <td>Abdelrahman Salah Orabi Abdelgawwad</td>\n",
       "      <td>EGY</td>\n",
       "      <td>male</td>\n",
       "      <td>10/9/87</td>\n",
       "      <td>1.85</td>\n",
       "      <td>0.0</td>\n",
       "      <td>boxing</td>\n",
       "      <td>0</td>\n",
       "      <td>0</td>\n",
       "      <td>0</td>\n",
       "    </tr>\n",
       "    <tr>\n",
       "      <th>47</th>\n",
       "      <td>469953606</td>\n",
       "      <td>Abdoullah Bamoussa</td>\n",
       "      <td>ITA</td>\n",
       "      <td>male</td>\n",
       "      <td>6/8/86</td>\n",
       "      <td>0.00</td>\n",
       "      <td>0.0</td>\n",
       "      <td>athletics</td>\n",
       "      <td>0</td>\n",
       "      <td>0</td>\n",
       "      <td>0</td>\n",
       "    </tr>\n",
       "    <tr>\n",
       "      <th>...</th>\n",
       "      <td>...</td>\n",
       "      <td>...</td>\n",
       "      <td>...</td>\n",
       "      <td>...</td>\n",
       "      <td>...</td>\n",
       "      <td>...</td>\n",
       "      <td>...</td>\n",
       "      <td>...</td>\n",
       "      <td>...</td>\n",
       "      <td>...</td>\n",
       "      <td>...</td>\n",
       "    </tr>\n",
       "    <tr>\n",
       "      <th>11465</th>\n",
       "      <td>980866226</td>\n",
       "      <td>Zhaina Shekerbekova</td>\n",
       "      <td>KAZ</td>\n",
       "      <td>female</td>\n",
       "      <td>12/17/89</td>\n",
       "      <td>1.54</td>\n",
       "      <td>0.0</td>\n",
       "      <td>boxing</td>\n",
       "      <td>0</td>\n",
       "      <td>0</td>\n",
       "      <td>0</td>\n",
       "    </tr>\n",
       "    <tr>\n",
       "      <th>11468</th>\n",
       "      <td>405483135</td>\n",
       "      <td>Zhanibek Alimkhanuly</td>\n",
       "      <td>KAZ</td>\n",
       "      <td>male</td>\n",
       "      <td>4/1/93</td>\n",
       "      <td>1.82</td>\n",
       "      <td>0.0</td>\n",
       "      <td>boxing</td>\n",
       "      <td>0</td>\n",
       "      <td>0</td>\n",
       "      <td>0</td>\n",
       "    </tr>\n",
       "    <tr>\n",
       "      <th>11513</th>\n",
       "      <td>352983859</td>\n",
       "      <td>Zohir Kedache</td>\n",
       "      <td>ALG</td>\n",
       "      <td>male</td>\n",
       "      <td>3/2/86</td>\n",
       "      <td>1.78</td>\n",
       "      <td>0.0</td>\n",
       "      <td>boxing</td>\n",
       "      <td>0</td>\n",
       "      <td>0</td>\n",
       "      <td>0</td>\n",
       "    </tr>\n",
       "    <tr>\n",
       "      <th>11514</th>\n",
       "      <td>424586991</td>\n",
       "      <td>Zohra Ez Zahraoui</td>\n",
       "      <td>MAR</td>\n",
       "      <td>female</td>\n",
       "      <td>11/18/83</td>\n",
       "      <td>1.65</td>\n",
       "      <td>0.0</td>\n",
       "      <td>boxing</td>\n",
       "      <td>0</td>\n",
       "      <td>0</td>\n",
       "      <td>0</td>\n",
       "    </tr>\n",
       "    <tr>\n",
       "      <th>11517</th>\n",
       "      <td>495365659</td>\n",
       "      <td>Zoltan Adam Harcsa</td>\n",
       "      <td>HUN</td>\n",
       "      <td>male</td>\n",
       "      <td>11/20/92</td>\n",
       "      <td>1.84</td>\n",
       "      <td>0.0</td>\n",
       "      <td>boxing</td>\n",
       "      <td>0</td>\n",
       "      <td>0</td>\n",
       "      <td>0</td>\n",
       "    </tr>\n",
       "  </tbody>\n",
       "</table>\n",
       "<p>659 rows × 11 columns</p>\n",
       "</div>"
      ],
      "text/plain": [
       "              id                                 name nationality     sex  \\\n",
       "12     258556239                           Abbas Qali         IOA    male   \n",
       "28     349871091                 Abdelhafid Benchabla         ALG    male   \n",
       "30      23564778                     Abdelkader Chadi         ALG    male   \n",
       "37     934545704  Abdelrahman Salah Orabi Abdelgawwad         EGY    male   \n",
       "47     469953606                   Abdoullah Bamoussa         ITA    male   \n",
       "...          ...                                  ...         ...     ...   \n",
       "11465  980866226                  Zhaina Shekerbekova         KAZ  female   \n",
       "11468  405483135                 Zhanibek Alimkhanuly         KAZ    male   \n",
       "11513  352983859                        Zohir Kedache         ALG    male   \n",
       "11514  424586991                    Zohra Ez Zahraoui         MAR  female   \n",
       "11517  495365659                   Zoltan Adam Harcsa         HUN    male   \n",
       "\n",
       "            dob  height  weight      sport  gold  silver  bronze  \n",
       "12     10/11/92    0.00     0.0   aquatics     0       0       0  \n",
       "28      9/26/86    1.86     0.0     boxing     0       0       0  \n",
       "30     12/12/86    1.78     0.0     boxing     0       0       0  \n",
       "37      10/9/87    1.85     0.0     boxing     0       0       0  \n",
       "47       6/8/86    0.00     0.0  athletics     0       0       0  \n",
       "...         ...     ...     ...        ...   ...     ...     ...  \n",
       "11465  12/17/89    1.54     0.0     boxing     0       0       0  \n",
       "11468    4/1/93    1.82     0.0     boxing     0       0       0  \n",
       "11513    3/2/86    1.78     0.0     boxing     0       0       0  \n",
       "11514  11/18/83    1.65     0.0     boxing     0       0       0  \n",
       "11517  11/20/92    1.84     0.0     boxing     0       0       0  \n",
       "\n",
       "[659 rows x 11 columns]"
      ]
     },
     "execution_count": 21,
     "metadata": {},
     "output_type": "execute_result"
    }
   ],
   "source": [
    "df_O = df.fillna(0)\n",
    "df_O[df_O.weight == 0]"
   ]
  },
  {
   "cell_type": "code",
   "execution_count": null,
   "id": "35e048a7",
   "metadata": {},
   "outputs": [],
   "source": [
    "data = df.dropna()"
   ]
  },
  {
   "cell_type": "markdown",
   "id": "196f458d",
   "metadata": {},
   "source": [
    "Расспределние нормальное, пропущенных значений немного, можно их удалить."
   ]
  },
  {
   "cell_type": "code",
   "execution_count": 24,
   "id": "f34c7fce",
   "metadata": {},
   "outputs": [
    {
     "name": "stdout",
     "output_type": "stream",
     "text": [
      "<class 'pandas.core.frame.DataFrame'>\n",
      "Int64Index: 10858 entries, 0 to 11537\n",
      "Data columns (total 11 columns):\n",
      " #   Column       Non-Null Count  Dtype  \n",
      "---  ------       --------------  -----  \n",
      " 0   id           10858 non-null  int64  \n",
      " 1   name         10858 non-null  object \n",
      " 2   nationality  10858 non-null  object \n",
      " 3   sex          10858 non-null  object \n",
      " 4   dob          10858 non-null  object \n",
      " 5   height       10858 non-null  float64\n",
      " 6   weight       10858 non-null  float64\n",
      " 7   sport        10858 non-null  object \n",
      " 8   gold         10858 non-null  int64  \n",
      " 9   silver       10858 non-null  int64  \n",
      " 10  bronze       10858 non-null  int64  \n",
      "dtypes: float64(2), int64(4), object(5)\n",
      "memory usage: 1017.9+ KB\n"
     ]
    }
   ],
   "source": [
    "data.info()"
   ]
  },
  {
   "cell_type": "code",
   "execution_count": 34,
   "id": "61f21890",
   "metadata": {},
   "outputs": [],
   "source": [
    "from sklearn.linear_model import LogisticRegression\n",
    "from sklearn.model_selection import train_test_split\n",
    "from sklearn.preprocessing import LabelEncoder\n",
    "le = LabelEncoder()"
   ]
  },
  {
   "cell_type": "code",
   "execution_count": 29,
   "id": "78723473",
   "metadata": {},
   "outputs": [
    {
     "data": {
      "text/plain": [
       "Index(['id', 'name', 'nationality', 'sex', 'dob', 'height', 'weight', 'sport',\n",
       "       'gold', 'silver', 'bronze'],\n",
       "      dtype='object')"
      ]
     },
     "execution_count": 29,
     "metadata": {},
     "output_type": "execute_result"
    }
   ],
   "source": [
    "data.columns"
   ]
  },
  {
   "cell_type": "code",
   "execution_count": 40,
   "id": "765ee498",
   "metadata": {},
   "outputs": [],
   "source": [
    "X = data[['height', 'weight', 'sport',\n",
    "       'gold', 'silver', 'bronze']]"
   ]
  },
  {
   "cell_type": "code",
   "execution_count": 37,
   "id": "0bba7c7f",
   "metadata": {},
   "outputs": [],
   "source": [
    "X = data[['height', 'weight',\n",
    "       'gold', 'silver', 'bronze']]"
   ]
  },
  {
   "cell_type": "code",
   "execution_count": 41,
   "id": "82856622",
   "metadata": {},
   "outputs": [
    {
     "data": {
      "text/html": [
       "<div>\n",
       "<style scoped>\n",
       "    .dataframe tbody tr th:only-of-type {\n",
       "        vertical-align: middle;\n",
       "    }\n",
       "\n",
       "    .dataframe tbody tr th {\n",
       "        vertical-align: top;\n",
       "    }\n",
       "\n",
       "    .dataframe thead th {\n",
       "        text-align: right;\n",
       "    }\n",
       "</style>\n",
       "<table border=\"1\" class=\"dataframe\">\n",
       "  <thead>\n",
       "    <tr style=\"text-align: right;\">\n",
       "      <th></th>\n",
       "      <th>height</th>\n",
       "      <th>weight</th>\n",
       "      <th>gold</th>\n",
       "      <th>silver</th>\n",
       "      <th>bronze</th>\n",
       "      <th>sport_aquatics</th>\n",
       "      <th>sport_archery</th>\n",
       "      <th>sport_athletics</th>\n",
       "      <th>sport_badminton</th>\n",
       "      <th>sport_basketball</th>\n",
       "      <th>...</th>\n",
       "      <th>sport_rugby sevens</th>\n",
       "      <th>sport_sailing</th>\n",
       "      <th>sport_shooting</th>\n",
       "      <th>sport_table tennis</th>\n",
       "      <th>sport_taekwondo</th>\n",
       "      <th>sport_tennis</th>\n",
       "      <th>sport_triathlon</th>\n",
       "      <th>sport_volleyball</th>\n",
       "      <th>sport_weightlifting</th>\n",
       "      <th>sport_wrestling</th>\n",
       "    </tr>\n",
       "  </thead>\n",
       "  <tbody>\n",
       "    <tr>\n",
       "      <th>0</th>\n",
       "      <td>1.72</td>\n",
       "      <td>64.0</td>\n",
       "      <td>0</td>\n",
       "      <td>0</td>\n",
       "      <td>0</td>\n",
       "      <td>0</td>\n",
       "      <td>0</td>\n",
       "      <td>1</td>\n",
       "      <td>0</td>\n",
       "      <td>0</td>\n",
       "      <td>...</td>\n",
       "      <td>0</td>\n",
       "      <td>0</td>\n",
       "      <td>0</td>\n",
       "      <td>0</td>\n",
       "      <td>0</td>\n",
       "      <td>0</td>\n",
       "      <td>0</td>\n",
       "      <td>0</td>\n",
       "      <td>0</td>\n",
       "      <td>0</td>\n",
       "    </tr>\n",
       "    <tr>\n",
       "      <th>1</th>\n",
       "      <td>1.68</td>\n",
       "      <td>56.0</td>\n",
       "      <td>0</td>\n",
       "      <td>0</td>\n",
       "      <td>0</td>\n",
       "      <td>0</td>\n",
       "      <td>0</td>\n",
       "      <td>0</td>\n",
       "      <td>0</td>\n",
       "      <td>0</td>\n",
       "      <td>...</td>\n",
       "      <td>0</td>\n",
       "      <td>0</td>\n",
       "      <td>0</td>\n",
       "      <td>0</td>\n",
       "      <td>0</td>\n",
       "      <td>0</td>\n",
       "      <td>0</td>\n",
       "      <td>0</td>\n",
       "      <td>0</td>\n",
       "      <td>0</td>\n",
       "    </tr>\n",
       "    <tr>\n",
       "      <th>2</th>\n",
       "      <td>1.98</td>\n",
       "      <td>79.0</td>\n",
       "      <td>0</td>\n",
       "      <td>0</td>\n",
       "      <td>1</td>\n",
       "      <td>0</td>\n",
       "      <td>0</td>\n",
       "      <td>1</td>\n",
       "      <td>0</td>\n",
       "      <td>0</td>\n",
       "      <td>...</td>\n",
       "      <td>0</td>\n",
       "      <td>0</td>\n",
       "      <td>0</td>\n",
       "      <td>0</td>\n",
       "      <td>0</td>\n",
       "      <td>0</td>\n",
       "      <td>0</td>\n",
       "      <td>0</td>\n",
       "      <td>0</td>\n",
       "      <td>0</td>\n",
       "    </tr>\n",
       "    <tr>\n",
       "      <th>3</th>\n",
       "      <td>1.83</td>\n",
       "      <td>80.0</td>\n",
       "      <td>0</td>\n",
       "      <td>0</td>\n",
       "      <td>0</td>\n",
       "      <td>0</td>\n",
       "      <td>0</td>\n",
       "      <td>0</td>\n",
       "      <td>0</td>\n",
       "      <td>0</td>\n",
       "      <td>...</td>\n",
       "      <td>0</td>\n",
       "      <td>0</td>\n",
       "      <td>0</td>\n",
       "      <td>0</td>\n",
       "      <td>1</td>\n",
       "      <td>0</td>\n",
       "      <td>0</td>\n",
       "      <td>0</td>\n",
       "      <td>0</td>\n",
       "      <td>0</td>\n",
       "    </tr>\n",
       "    <tr>\n",
       "      <th>4</th>\n",
       "      <td>1.81</td>\n",
       "      <td>71.0</td>\n",
       "      <td>0</td>\n",
       "      <td>0</td>\n",
       "      <td>0</td>\n",
       "      <td>0</td>\n",
       "      <td>0</td>\n",
       "      <td>0</td>\n",
       "      <td>0</td>\n",
       "      <td>0</td>\n",
       "      <td>...</td>\n",
       "      <td>0</td>\n",
       "      <td>0</td>\n",
       "      <td>0</td>\n",
       "      <td>0</td>\n",
       "      <td>0</td>\n",
       "      <td>0</td>\n",
       "      <td>0</td>\n",
       "      <td>0</td>\n",
       "      <td>0</td>\n",
       "      <td>0</td>\n",
       "    </tr>\n",
       "  </tbody>\n",
       "</table>\n",
       "<p>5 rows × 32 columns</p>\n",
       "</div>"
      ],
      "text/plain": [
       "   height  weight  gold  silver  bronze  sport_aquatics  sport_archery  \\\n",
       "0    1.72    64.0     0       0       0               0              0   \n",
       "1    1.68    56.0     0       0       0               0              0   \n",
       "2    1.98    79.0     0       0       1               0              0   \n",
       "3    1.83    80.0     0       0       0               0              0   \n",
       "4    1.81    71.0     0       0       0               0              0   \n",
       "\n",
       "   sport_athletics  sport_badminton  sport_basketball  ...  \\\n",
       "0                1                0                 0  ...   \n",
       "1                0                0                 0  ...   \n",
       "2                1                0                 0  ...   \n",
       "3                0                0                 0  ...   \n",
       "4                0                0                 0  ...   \n",
       "\n",
       "   sport_rugby sevens  sport_sailing  sport_shooting  sport_table tennis  \\\n",
       "0                   0              0               0                   0   \n",
       "1                   0              0               0                   0   \n",
       "2                   0              0               0                   0   \n",
       "3                   0              0               0                   0   \n",
       "4                   0              0               0                   0   \n",
       "\n",
       "   sport_taekwondo  sport_tennis  sport_triathlon  sport_volleyball  \\\n",
       "0                0             0                0                 0   \n",
       "1                0             0                0                 0   \n",
       "2                0             0                0                 0   \n",
       "3                1             0                0                 0   \n",
       "4                0             0                0                 0   \n",
       "\n",
       "   sport_weightlifting  sport_wrestling  \n",
       "0                    0                0  \n",
       "1                    0                0  \n",
       "2                    0                0  \n",
       "3                    0                0  \n",
       "4                    0                0  \n",
       "\n",
       "[5 rows x 32 columns]"
      ]
     },
     "execution_count": 41,
     "metadata": {},
     "output_type": "execute_result"
    }
   ],
   "source": [
    "X = pd.get_dummies(X, columns = ['sport'])\n",
    "X.head()"
   ]
  },
  {
   "cell_type": "code",
   "execution_count": 33,
   "id": "43032c6e",
   "metadata": {},
   "outputs": [
    {
     "data": {
      "text/plain": [
       "0    1\n",
       "1    0\n",
       "2    1\n",
       "3    1\n",
       "4    1\n",
       "dtype: int32"
      ]
     },
     "execution_count": 33,
     "metadata": {},
     "output_type": "execute_result"
    }
   ],
   "source": [
    "le = LabelEncoder()\n",
    "le.fit(data['sex'])\n",
    "y = pd.Series( data = le.transform(data['sex']))\n",
    "y.head()"
   ]
  },
  {
   "cell_type": "code",
   "execution_count": 42,
   "id": "cb017043",
   "metadata": {},
   "outputs": [
    {
     "name": "stderr",
     "output_type": "stream",
     "text": [
      "C:\\Users\\Admin\\anaconda3\\lib\\site-packages\\sklearn\\linear_model\\_logistic.py:763: ConvergenceWarning: lbfgs failed to converge (status=1):\n",
      "STOP: TOTAL NO. of ITERATIONS REACHED LIMIT.\n",
      "\n",
      "Increase the number of iterations (max_iter) or scale the data as shown in:\n",
      "    https://scikit-learn.org/stable/modules/preprocessing.html\n",
      "Please also refer to the documentation for alternative solver options:\n",
      "    https://scikit-learn.org/stable/modules/linear_model.html#logistic-regression\n",
      "  n_iter_i = _check_optimize_result(\n"
     ]
    },
    {
     "data": {
      "text/plain": [
       "LogisticRegression()"
      ]
     },
     "execution_count": 42,
     "metadata": {},
     "output_type": "execute_result"
    }
   ],
   "source": [
    "X_train, X_test, y_train, y_test = train_test_split(X, y, test_size=0.2, random_state=42)\n",
    "model = LogisticRegression()\n",
    "model.fit(X_train, y_train)"
   ]
  },
  {
   "cell_type": "code",
   "execution_count": 43,
   "id": "103f9f74",
   "metadata": {},
   "outputs": [
    {
     "data": {
      "text/plain": [
       "0.7951197053406999"
      ]
     },
     "execution_count": 43,
     "metadata": {},
     "output_type": "execute_result"
    }
   ],
   "source": [
    "model.score(X_test, y_test)"
   ]
  },
  {
   "cell_type": "code",
   "execution_count": 46,
   "id": "37abd37a",
   "metadata": {},
   "outputs": [],
   "source": [
    "predicts =  model.predict_proba(X_test)"
   ]
  },
  {
   "cell_type": "code",
   "execution_count": 51,
   "id": "dc3c3770",
   "metadata": {},
   "outputs": [],
   "source": [
    "from sklearn.metrics import roc_curve\n",
    "from sklearn.metrics import roc_auc_score"
   ]
  },
  {
   "cell_type": "code",
   "execution_count": 52,
   "id": "33cda4f3",
   "metadata": {},
   "outputs": [],
   "source": [
    "fpr, tpr, thres = roc_curve( y_test, predicts[:, 1])"
   ]
  },
  {
   "cell_type": "code",
   "execution_count": 53,
   "id": "6206d87c",
   "metadata": {},
   "outputs": [],
   "source": [
    "from matplotlib import pyplot as plt"
   ]
  },
  {
   "cell_type": "code",
   "execution_count": 54,
   "id": "40d19a64",
   "metadata": {},
   "outputs": [
    {
     "data": {
      "text/plain": [
       "[<matplotlib.lines.Line2D at 0x18feb0ff8b0>]"
      ]
     },
     "execution_count": 54,
     "metadata": {},
     "output_type": "execute_result"
    },
    {
     "data": {
      "image/png": "[encoded data removed]",
      "text/plain": [
       "<Figure size 432x288 with 1 Axes>"
      ]
     },
     "metadata": {
      "needs_background": "light"
     },
     "output_type": "display_data"
    }
   ],
   "source": [
    "plt.plot( fpr, tpr )"
   ]
  },
  {
   "cell_type": "code",
   "execution_count": 56,
   "id": "72f9695b",
   "metadata": {},
   "outputs": [
    {
     "data": {
      "text/plain": [
       "0.8773036941227998"
      ]
     },
     "execution_count": 56,
     "metadata": {},
     "output_type": "execute_result"
    }
   ],
   "source": [
    "roc_auc_score(y_test, predicts[:, 1])"
   ]
  },
  {
   "cell_type": "code",
   "execution_count": 76,
   "id": "37c4a70f",
   "metadata": {},
   "outputs": [],
   "source": [
    "def TPR_FPR(pred, abroad):\n",
    "    tp = 0\n",
    "    fp = 0\n",
    "    fn = 0\n",
    "    tn = 0\n",
    "\n",
    "    for predicted_prob, actual in pred:\n",
    "        if predicted_prob >= abroad:\n",
    "            predicted = 1\n",
    "        else:\n",
    "            predicted = 0\n",
    "        if predicted == 1:\n",
    "            if actual == 1:\n",
    "                tp += 1\n",
    "            else:\n",
    "                fp += 1\n",
    "        if predicted == 0:\n",
    "            if actual == 1:\n",
    "                fn += 1\n",
    "            else:\n",
    "                tn += 1\n",
    "    TPR = tp / (tp + fn)\n",
    "    FPR = fp / (fp + tn)\n",
    "    return (TPR, FPR)"
   ]
  },
  {
   "cell_type": "code",
   "execution_count": 81,
   "id": "36eaf181",
   "metadata": {},
   "outputs": [],
   "source": [
    "pred = list(zip(predicts[:, 1], y_test))"
   ]
  },
  {
   "cell_type": "code",
   "execution_count": 82,
   "id": "11253deb",
   "metadata": {},
   "outputs": [
    {
     "data": {
      "text/plain": [
       "(0.8148148148148148, 0.22865853658536586)"
      ]
     },
     "execution_count": 82,
     "metadata": {},
     "output_type": "execute_result"
    }
   ],
   "source": [
    "TPR_FPR(pred, abroad = 0.5)"
   ]
  },
  {
   "cell_type": "code",
   "execution_count": 109,
   "id": "6bada54a",
   "metadata": {},
   "outputs": [],
   "source": [
    "abroad = 0\n",
    "TPR = []\n",
    "FPR = []\n",
    "for i in range(99):\n",
    "    res = TPR_FPR(pred, abroad)\n",
    "    TPR.append(res[0])\n",
    "    FPR.append(res[1])\n",
    "    abroad += 0.01"
   ]
  },
  {
   "cell_type": "code",
   "execution_count": 110,
   "id": "94e39070",
   "metadata": {},
   "outputs": [
    {
     "data": {
      "text/plain": [
       "[<matplotlib.lines.Line2D at 0x18fede83340>]"
      ]
     },
     "execution_count": 110,
     "metadata": {},
     "output_type": "execute_result"
    },
    {
     "data": {
      "image/png": "[encoded data removed]",
      "text/plain": [
       "<Figure size 432x288 with 1 Axes>"
      ]
     },
     "metadata": {
      "needs_background": "light"
     },
     "output_type": "display_data"
    }
   ],
   "source": [
    "plt.plot( FPR, TPR )\n",
    "plt.plot( fpr, tpr )"
   ]
  },
  {
   "cell_type": "markdown",
   "id": "8d298a37",
   "metadata": {},
   "source": [
    "ROC кривая для метода из sklearn и вручную сделанной полностью совпадают. Если судить по форме графика(стремится к квадарту) и площади под графиком(близка к 1), то мы можем сказать, что модель довольно неплохо предсказывает классы(пол)."
   ]
  },
  {
   "cell_type": "markdown",
   "id": "7d82ff25",
   "metadata": {},
   "source": [
    "Мне думается, что ROC кривая может быть ниже диагонали, только если впервую очередь оценивается FPR, что равносильно поменять местами на графике 2 показателя. Только по смыслу это будет тоже самое, но менее интуитивно понятное представление. В силу других причин быть не может, так как в этой метрике самый худший показатель это когда идёт диагональ или плошадь 0.5, что обазначает полную случайность предсказаний."
   ]
  },
  {
   "cell_type": "code",
   "execution_count": 87,
   "id": "6ed7cc73",
   "metadata": {},
   "outputs": [],
   "source": [
    "def Precision_Recall(pred, abroad):\n",
    "    tp = 0\n",
    "    fp = 0\n",
    "    fn = 0\n",
    "    tn = 0\n",
    "\n",
    "    for predicted_prob, actual in pred:\n",
    "        if predicted_prob >= abroad:\n",
    "            predicted = 1\n",
    "        else:\n",
    "            predicted = 0\n",
    "        if predicted == 1:\n",
    "            if actual == 1:\n",
    "                tp += 1\n",
    "            else:\n",
    "                fp += 1\n",
    "        if predicted == 0:\n",
    "            if actual == 1:\n",
    "                fn += 1\n",
    "            else:\n",
    "                tn += 1\n",
    "    precision = tp / (tp + fp)\n",
    "    recall = tp / (tp + fn)\n",
    "    return (precision, recall)"
   ]
  },
  {
   "cell_type": "code",
   "execution_count": 103,
   "id": "23c7f8e4",
   "metadata": {},
   "outputs": [],
   "source": [
    "abroad = 0\n",
    "precision = []\n",
    "recall = []\n",
    "for i in range(999):\n",
    "    res = Precision_Recall(pred, abroad)\n",
    "    precision.append(res[0])\n",
    "    recall.append(res[1])\n",
    "    abroad += 0.001"
   ]
  },
  {
   "cell_type": "code",
   "execution_count": 107,
   "id": "4a17838d",
   "metadata": {},
   "outputs": [
    {
     "data": {
      "text/plain": [
       "[<matplotlib.lines.Line2D at 0x18fedf41c10>]"
      ]
     },
     "execution_count": 107,
     "metadata": {},
     "output_type": "execute_result"
    },
    {
     "data": {
      "image/png": "[encoded data removed]",
      "text/plain": [
       "<Figure size 432x288 with 1 Axes>"
      ]
     },
     "metadata": {
      "needs_background": "light"
     },
     "output_type": "display_data"
    }
   ],
   "source": [
    "plt.plot(recall, precision)"
   ]
  },
  {
   "cell_type": "code",
   "execution_count": 96,
   "id": "a3611f46",
   "metadata": {},
   "outputs": [],
   "source": [
    "from sklearn.metrics import precision_recall_curve"
   ]
  },
  {
   "cell_type": "code",
   "execution_count": 97,
   "id": "2b7ca2b8",
   "metadata": {},
   "outputs": [],
   "source": [
    "pr, re, thres = precision_recall_curve( y_test, predicts[:, 1] )"
   ]
  },
  {
   "cell_type": "code",
   "execution_count": 106,
   "id": "2479ed7d",
   "metadata": {},
   "outputs": [
    {
     "data": {
      "text/plain": [
       "[<matplotlib.lines.Line2D at 0x18fedff8970>]"
      ]
     },
     "execution_count": 106,
     "metadata": {},
     "output_type": "execute_result"
    },
    {
     "data": {
      "image/png": "[encoded data removed]",
      "text/plain": [
       "<Figure size 432x288 with 1 Axes>"
      ]
     },
     "metadata": {
      "needs_background": "light"
     },
     "output_type": "display_data"
    }
   ],
   "source": [
    "plt.plot(re, pr)"
   ]
  },
  {
   "cell_type": "markdown",
   "id": "0d07a1cc",
   "metadata": {},
   "source": [
    "PR кривая относительно имеет площадь ближе к 1, так что можно скзать, модель не иделаьно, но более менее правильно предсказывает. Графики для встроенного метода и вручную сделанных практически совпадают, только почему то не заципилось на оси ординат последнее 5%."
   ]
  },
  {
   "cell_type": "markdown",
   "id": "3bcb390e",
   "metadata": {},
   "source": [
    "На основе метрик можно сделать вывод, что модель в принципе неплохо справляется с предсказанием пола спортсмена. Сорее всего это связано с тем, что эти 2 класса имееют выраженные отличия, и если в теории на гарфике изобразить их расспеределения, то они будут слабо пересекаться. Плюс эти 2 класса равнозначны(по размеру). В случае предсказания других показателей(есть золотые медали или нет), то это надо проверять."
   ]
  }
 ],
 "metadata": {
  "kernelspec": {
   "display_name": "Python 3",
   "language": "python",
   "name": "python3"
  },
  "language_info": {
   "codemirror_mode": {
    "name": "ipython",
    "version": 3
   },
   "file_extension": ".py",
   "mimetype": "text/x-python",
   "name": "python",
   "nbconvert_exporter": "python",
   "pygments_lexer": "ipython3",
   "version": "3.8.8"
  }
 },
 "nbformat": 4,
 "nbformat_minor": 5
}
