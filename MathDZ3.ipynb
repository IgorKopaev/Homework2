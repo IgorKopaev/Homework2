{
 "cells": [
  {
   "cell_type": "code",
   "execution_count": 2,
   "id": "95580b5f",
   "metadata": {},
   "outputs": [],
   "source": [
    "import numpy as np\n",
    "import matplotlib.pyplot as plt"
   ]
  },
  {
   "cell_type": "code",
   "execution_count": 17,
   "id": "040749d9",
   "metadata": {},
   "outputs": [
    {
     "data": {
      "image/png": "[encoded data removed]",
      "text/plain": [
       "<Figure size 432x288 with 1 Axes>"
      ]
     },
     "metadata": {
      "needs_background": "light"
     },
     "output_type": "display_data"
    }
   ],
   "source": [
    "A = [[-100, -100, 1],[-100, 100, 1],[100, 100, 1],[0, 0, 1],[100, -100, 1],[-100, -100, 1]]\n",
    "A = np.array(A)\n",
    "x = A[:,0]\n",
    "y = A[:,1]\n",
    "plt.plot(x, y)\n",
    "plt.ylim([-200, 200])\n",
    "plt.xlim([-200, 200])\n",
    "plt.grid()"
   ]
  },
  {
   "cell_type": "code",
   "execution_count": 7,
   "id": "f9eb40ac",
   "metadata": {},
   "outputs": [
    {
     "data": {
      "text/plain": [
       "array([[0.5, 0. , 0. ],\n",
       "       [0. , 0.5, 0. ],\n",
       "       [0. , 0. , 0.5]])"
      ]
     },
     "execution_count": 7,
     "metadata": {},
     "output_type": "execute_result"
    }
   ],
   "source": [
    "B = np.array([[0.5, 0, 0],\n",
    "              [0, 0.5, 0],\n",
    "              [0, 0, 0.5]])\n",
    "B"
   ]
  },
  {
   "cell_type": "code",
   "execution_count": 14,
   "id": "d9a5b9bf",
   "metadata": {},
   "outputs": [
    {
     "data": {
      "text/plain": [
       "array([[-50. , -50. ,   0.5],\n",
       "       [-50. ,  50. ,   0.5],\n",
       "       [ 50. ,  50. ,   0.5],\n",
       "       [  0. ,   0. ,   0.5],\n",
       "       [ 50. , -50. ,   0.5],\n",
       "       [-50. , -50. ,   0.5]])"
      ]
     },
     "execution_count": 14,
     "metadata": {},
     "output_type": "execute_result"
    }
   ],
   "source": [
    "A2 = A @ B\n",
    "A2"
   ]
  },
  {
   "cell_type": "code",
   "execution_count": 18,
   "id": "470a1c2b",
   "metadata": {},
   "outputs": [
    {
     "data": {
      "image/png": "[encoded data removed]",
      "text/plain": [
       "<Figure size 432x288 with 1 Axes>"
      ]
     },
     "metadata": {
      "needs_background": "light"
     },
     "output_type": "display_data"
    }
   ],
   "source": [
    "A2 = np.array(A2)\n",
    "x = A2[:,0]\n",
    "y = A2[:,1]\n",
    "plt.plot(x, y)\n",
    "plt.ylim([-200, 200])\n",
    "plt.xlim([-200, 200])\n",
    "plt.grid()"
   ]
  },
  {
   "cell_type": "code",
   "execution_count": 34,
   "id": "3dbc0e32",
   "metadata": {},
   "outputs": [
    {
     "data": {
      "text/plain": [
       "-0.6427876096865394"
      ]
     },
     "execution_count": 34,
     "metadata": {},
     "output_type": "execute_result"
    }
   ],
   "source": [
    "np.cos(np.deg2rad(130))"
   ]
  },
  {
   "cell_type": "code",
   "execution_count": 25,
   "id": "49718985",
   "metadata": {},
   "outputs": [
    {
     "data": {
      "text/plain": [
       "1.5707963267948966"
      ]
     },
     "execution_count": 25,
     "metadata": {},
     "output_type": "execute_result"
    }
   ],
   "source": [
    "np.deg2rad(90)"
   ]
  },
  {
   "cell_type": "code",
   "execution_count": 49,
   "id": "64ebd939",
   "metadata": {},
   "outputs": [
    {
     "data": {
      "text/plain": [
       "array([[-0.64278761, -0.76604444,  0.        ],\n",
       "       [ 0.76604444, -0.64278761,  0.        ],\n",
       "       [ 0.        ,  0.        ,  1.        ]])"
      ]
     },
     "execution_count": 49,
     "metadata": {},
     "output_type": "execute_result"
    }
   ],
   "source": [
    "B2 = np.array([[np.cos(np.deg2rad(130)), -np.sin(np.deg2rad(130)), 0],\n",
    "              [np.sin(np.deg2rad(130)), np.cos(np.deg2rad(130)), 0],\n",
    "              [0, 0, 1]])\n",
    "B2"
   ]
  },
  {
   "cell_type": "code",
   "execution_count": 50,
   "id": "f7f66f76",
   "metadata": {},
   "outputs": [
    {
     "data": {
      "text/plain": [
       "array([[ -6.16284167,  70.44160264,   0.5       ],\n",
       "       [ 70.44160264,   6.16284167,   0.5       ],\n",
       "       [  6.16284167, -70.44160264,   0.5       ],\n",
       "       [  0.        ,   0.        ,   0.5       ],\n",
       "       [-70.44160264,  -6.16284167,   0.5       ],\n",
       "       [ -6.16284167,  70.44160264,   0.5       ]])"
      ]
     },
     "execution_count": 50,
     "metadata": {},
     "output_type": "execute_result"
    }
   ],
   "source": [
    "A3 = A2 @ B2\n",
    "A3"
   ]
  },
  {
   "cell_type": "code",
   "execution_count": 57,
   "id": "fa223e7f",
   "metadata": {},
   "outputs": [
    {
     "data": {
      "image/png": "[encoded data removed]",
      "text/plain": [
       "<Figure size 432x288 with 1 Axes>"
      ]
     },
     "metadata": {
      "needs_background": "light"
     },
     "output_type": "display_data"
    }
   ],
   "source": [
    "A3 = np.array(A3)\n",
    "x = A3[:,0]\n",
    "y = A3[:,1]\n",
    "plt.plot(x, y)\n",
    "plt.ylim([-200, 200])\n",
    "plt.xlim([-200, 200])\n",
    "plt.grid()"
   ]
  },
  {
   "cell_type": "code",
   "execution_count": 61,
   "id": "2f8b6119",
   "metadata": {},
   "outputs": [
    {
     "data": {
      "text/plain": [
       "array([[-1,  0,  0],\n",
       "       [ 0, -1,  0],\n",
       "       [ 0,  0,  1]])"
      ]
     },
     "execution_count": 61,
     "metadata": {},
     "output_type": "execute_result"
    }
   ],
   "source": [
    "B3 = np.array([[-1, 0, 0],\n",
    "              [0, -1, 0],\n",
    "              [0, 0, 1]])\n",
    "B3"
   ]
  },
  {
   "cell_type": "code",
   "execution_count": 62,
   "id": "e1e05f23",
   "metadata": {},
   "outputs": [
    {
     "data": {
      "text/plain": [
       "array([[  6.16284167, -70.44160264,   0.5       ],\n",
       "       [-70.44160264,  -6.16284167,   0.5       ],\n",
       "       [ -6.16284167,  70.44160264,   0.5       ],\n",
       "       [  0.        ,   0.        ,   0.5       ],\n",
       "       [ 70.44160264,   6.16284167,   0.5       ],\n",
       "       [  6.16284167, -70.44160264,   0.5       ]])"
      ]
     },
     "execution_count": 62,
     "metadata": {},
     "output_type": "execute_result"
    }
   ],
   "source": [
    "A4 = A3 @ B3\n",
    "A4"
   ]
  },
  {
   "cell_type": "code",
   "execution_count": 63,
   "id": "13757c9f",
   "metadata": {},
   "outputs": [
    {
     "data": {
      "image/png": "[encoded data removed]",
      "text/plain": [
       "<Figure size 432x288 with 1 Axes>"
      ]
     },
     "metadata": {
      "needs_background": "light"
     },
     "output_type": "display_data"
    }
   ],
   "source": [
    "A4 = np.array(A4)\n",
    "x = A4[:,0]\n",
    "y = A4[:,1]\n",
    "plt.plot(x, y)\n",
    "plt.ylim([-200, 200])\n",
    "plt.xlim([-200, 200])\n",
    "plt.grid()"
   ]
  },
  {
   "cell_type": "code",
   "execution_count": 68,
   "id": "e28a80b0",
   "metadata": {},
   "outputs": [
    {
     "data": {
      "text/plain": [
       "0.12500000000000003"
      ]
     },
     "execution_count": 68,
     "metadata": {},
     "output_type": "execute_result"
    }
   ],
   "source": [
    "Bf = B @ B2 @ B3\n",
    "np.linalg.det(Bf)"
   ]
  },
  {
   "cell_type": "markdown",
   "id": "c08c97a3",
   "metadata": {},
   "source": [
    "x + z = 2\n",
    "-x + y - 2z + w = -2\n",
    "4x + z - 2w = 0\n",
    "-4x + 4*y + w = 5"
   ]
  },
  {
   "cell_type": "code",
   "execution_count": 69,
   "id": "d269286c",
   "metadata": {},
   "outputs": [
    {
     "data": {
      "text/plain": [
       "array([[ 1,  0,  1,  0],\n",
       "       [-1,  1, -2,  1],\n",
       "       [ 4,  0,  1, -2],\n",
       "       [-4,  4,  0,  1]])"
      ]
     },
     "execution_count": 69,
     "metadata": {},
     "output_type": "execute_result"
    }
   ],
   "source": [
    "U = np.array([[1, 0, 1, 0],\n",
    "     [-1, 1, -2, 1],\n",
    "     [4, 0, 1, -2],\n",
    "     [-4, 4, 0, 1]])\n",
    "U"
   ]
  },
  {
   "cell_type": "code",
   "execution_count": 71,
   "id": "9868e975",
   "metadata": {},
   "outputs": [
    {
     "data": {
      "text/plain": [
       "array([[ 2],\n",
       "       [-2],\n",
       "       [ 0],\n",
       "       [ 5]])"
      ]
     },
     "execution_count": 71,
     "metadata": {},
     "output_type": "execute_result"
    }
   ],
   "source": [
    "C = np.array([[2], [-2], [0], [5]])\n",
    "C"
   ]
  },
  {
   "cell_type": "code",
   "execution_count": 72,
   "id": "802d535d",
   "metadata": {},
   "outputs": [
    {
     "data": {
      "text/plain": [
       "array([[0.],\n",
       "       [1.],\n",
       "       [2.],\n",
       "       [1.]])"
      ]
     },
     "execution_count": 72,
     "metadata": {},
     "output_type": "execute_result"
    }
   ],
   "source": [
    "np.linalg.solve(U, C)"
   ]
  },
  {
   "cell_type": "code",
   "execution_count": null,
   "id": "a98b0229",
   "metadata": {},
   "outputs": [],
   "source": []
  }
 ],
 "metadata": {
  "kernelspec": {
   "display_name": "Python 3",
   "language": "python",
   "name": "python3"
  },
  "language_info": {
   "codemirror_mode": {
    "name": "ipython",
    "version": 3
   },
   "file_extension": ".py",
   "mimetype": "text/x-python",
   "name": "python",
   "nbconvert_exporter": "python",
   "pygments_lexer": "ipython3",
   "version": "3.8.8"
  }
 },
 "nbformat": 4,
 "nbformat_minor": 5
}
