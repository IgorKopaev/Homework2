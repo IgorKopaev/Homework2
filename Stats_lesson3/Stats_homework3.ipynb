{
 "cells": [
  {
   "cell_type": "code",
   "execution_count": 1,
   "metadata": {},
   "outputs": [],
   "source": [
    "import numpy as np"
   ]
  },
  {
   "cell_type": "code",
   "execution_count": 2,
   "metadata": {},
   "outputs": [
    {
     "data": {
      "text/plain": [
       "226"
      ]
     },
     "execution_count": 2,
     "metadata": {},
     "output_type": "execute_result"
    }
   ],
   "source": [
    "np.random.randint(0, 1000)"
   ]
  },
  {
   "cell_type": "code",
   "execution_count": 3,
   "metadata": {},
   "outputs": [
    {
     "name": "stdout",
     "output_type": "stream",
     "text": [
      "-0.195441\n",
      "0.20409\n"
     ]
    }
   ],
   "source": [
    "trials = 1000000\n",
    "win = 0\n",
    "succseses = 0\n",
    "for i in range(trials):\n",
    "    win -= 1\n",
    "    num = np.random.randint(0, 1000)\n",
    "    if num == 777:\n",
    "        win += 200\n",
    "        succseses += 1\n",
    "    elif num == 999:\n",
    "        win += 100\n",
    "        succseses += 1\n",
    "    elif num == 555:\n",
    "        win += 50\n",
    "        succseses += 1\n",
    "    elif num == 333:\n",
    "        win += 15\n",
    "        succseses += 1\n",
    "    elif num == 111:\n",
    "        win += 10\n",
    "        succseses += 1\n",
    "    elif num % 100 == 77:\n",
    "        win += 5\n",
    "        succseses += 1\n",
    "    elif num % 10 == 7:\n",
    "        win += 3\n",
    "        succseses += 1\n",
    "    elif num % 100 == 0:\n",
    "        win += 2\n",
    "        succseses += 1\n",
    "    elif num % 10 == 0:\n",
    "        win += 1\n",
    "        succseses += 1\n",
    "    else:\n",
    "        win += 0\n",
    "average_payoff = win / trials\n",
    "print(average_payoff)\n",
    "p_monte_carlo = succseses / trials\n",
    "print(p_monte_carlo)"
   ]
  },
  {
   "cell_type": "code",
   "execution_count": 4,
   "metadata": {},
   "outputs": [
    {
     "data": {
      "text/plain": [
       "0.805"
      ]
     },
     "execution_count": 4,
     "metadata": {},
     "output_type": "execute_result"
    }
   ],
   "source": [
    "payoff2 = 0.001 * 200 + 0.001 * 100 + 0.001 * 50 + 0.001 * 15 + 0.001 * 10\\\n",
    "       + 0.01 * 5 + 0.09 * 3 + 0.01 * 2 + 0.09 * 1 + 0.795 * 0\n",
    "payoff2#Выигрыш составлет 0.805 рублей  к 1 рублю"
   ]
  },
  {
   "cell_type": "code",
   "execution_count": 32,
   "metadata": {},
   "outputs": [
    {
     "data": {
      "text/plain": [
       "-0.19499999999999995"
      ]
     },
     "execution_count": 32,
     "metadata": {},
     "output_type": "execute_result"
    }
   ],
   "source": [
    "0 - (1 - payoff2)\n",
    "#Игкрок будет столько терять в среднем на каждую игру"
   ]
  },
  {
   "cell_type": "code",
   "execution_count": null,
   "metadata": {},
   "outputs": [],
   "source": []
  }
 ],
 "metadata": {
  "kernelspec": {
   "display_name": "Python 3",
   "language": "python",
   "name": "python3"
  },
  "language_info": {
   "codemirror_mode": {
    "name": "ipython",
    "version": 3
   },
   "file_extension": ".py",
   "mimetype": "text/x-python",
   "name": "python",
   "nbconvert_exporter": "python",
   "pygments_lexer": "ipython3",
   "version": "3.8.5"
  }
 },
 "nbformat": 4,
 "nbformat_minor": 4
}
