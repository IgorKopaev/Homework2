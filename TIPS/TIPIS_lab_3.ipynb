{
 "cells": [
  {
   "cell_type": "code",
   "execution_count": 55,
   "metadata": {},
   "outputs": [],
   "source": [
    "from math import ceil"
   ]
  },
  {
   "cell_type": "code",
   "execution_count": 34,
   "metadata": {},
   "outputs": [],
   "source": [
    "letters = 'абвгдеёжзийклмнопрстуфхцчшщъыьэюя'"
   ]
  },
  {
   "cell_type": "code",
   "execution_count": 115,
   "metadata": {},
   "outputs": [],
   "source": [
    "def make_alfabet(letters):\n",
    "    \"\"\"Присавивает каждой букве номер по порядку\"\"\"\n",
    "    alfabet = {}\n",
    "    i = 1\n",
    "    for letter in list(letters):\n",
    "        alfabet[letter] = i\n",
    "        i += 1\n",
    "    return alfabet\n",
    "\n",
    "def reverse_alfabet(letters):\n",
    "    \"\"\"Обратное сопастовление номеров и букв алфавита\"\"\"\n",
    "    alfabet = {}\n",
    "    i = 1\n",
    "    for letter in list(letters):\n",
    "        alfabet[i] = letter\n",
    "        i += 1\n",
    "    return alfabet\n",
    "\n",
    "def tabula_recta(alfabet, rev_alfabet, code_word):\n",
    "    \"\"\"Создаёт таблицу сдвигов\"\"\"\n",
    "    tabula = []\n",
    "    n = len(code_word)\n",
    "    codelist = list(code_word)\n",
    "    for j in range(len(codelist)):\n",
    "        codelist[j] = alfabet[codelist[j]]\n",
    "    for i in range(n):\n",
    "        step = codelist[i] - 1\n",
    "        code_list = []\n",
    "        for el in rev_alfabet.keys():\n",
    "            if el + step < 33:\n",
    "                el += step\n",
    "                code_list.append(el)\n",
    "            elif el + step > 33:\n",
    "                el = (el + step) % 33\n",
    "                code_list.append(el)\n",
    "        tabula.append(code_list)\n",
    "    return tabula\n",
    "\n",
    "def encryption_visioneer(letters, code_word, message):\n",
    "    \"\"\"Кодирует слово на основе перданного алфавита, и кодового слова\n",
    "    методом Виженера\"\"\"\n",
    "    alfabet = make_alfabet(letters)\n",
    "    rev_alfabet = reverse_alfabet(letters)\n",
    "    n = len(code_word)\n",
    "    tabula = tabula_recta(alfabet, rev_alfabet, code_word)\n",
    "    message = list(message.lower())\n",
    "    for i in range(len(message)):\n",
    "        message[i] = alfabet[message[i]]\n",
    "    begin = 0\n",
    "    end = n\n",
    "    encrypt_message = []\n",
    "    for j in range(ceil(len(message) / n)):\n",
    "        if len(message[end:]) >= n:\n",
    "            part = message[begin:end]\n",
    "            for k in range(len(part)):\n",
    "                part[k] = tabula[k][part[k]-1]\n",
    "            encrypt_message += part\n",
    "            begin += n\n",
    "            end += n\n",
    "        elif len(message[end:]) < n:\n",
    "            part = message[begin:]\n",
    "            for k in range(len(part)):\n",
    "                part[k] = tabula[k][part[k]-1]\n",
    "            encrypt_message += part\n",
    "    for h in range(len(encrypt_message)):\n",
    "        encrypt_message[h] = rev_alfabet[encrypt_message[h]]\n",
    "    encrypt_message = ''.join(encrypt_message).capitalize()\n",
    "    return(encrypt_message)\n",
    "\n",
    "def gamma_encryption(message, code):\n",
    "    \"\"\"Шифрует сообщение методом гаммирования(xor).\n",
    "    Может также декодировать сообщение\"\"\"\n",
    "    message = list(message)\n",
    "    n = len(code)\n",
    "    for i in range(len(message)):\n",
    "        message[i] = ord(message[i])\n",
    "    begin = 0\n",
    "    end = n\n",
    "    encrypt_message = []   \n",
    "    for j in range(ceil(len(message) / n)):\n",
    "        if len(message[end:]) >= n:\n",
    "            part = message[begin:end]\n",
    "            for k in range(len(part)):\n",
    "                encrypt = part[k]\n",
    "                crypt = int(code[k])\n",
    "                part[k] = encrypt ^ crypt\n",
    "            encrypt_message += part\n",
    "            begin += n\n",
    "            end += n\n",
    "        elif len(message[end:]) < n:\n",
    "            part = message[begin:]\n",
    "            for k in range(len(part)):\n",
    "                encrypt = part[k]\n",
    "                crypt = int(code[k])\n",
    "                part[k] = encrypt ^ crypt\n",
    "            encrypt_message += part\n",
    "    for h in range(len(encrypt_message)):\n",
    "        encrypt_message[h] = chr(encrypt_message[h])\n",
    "    encrypt_message = ''.join(encrypt_message)\n",
    "    return(encrypt_message)\n",
    "    \n",
    "\n",
    "    "
   ]
  },
  {
   "cell_type": "code",
   "execution_count": 110,
   "metadata": {},
   "outputs": [
    {
     "name": "stdout",
     "output_type": "stream",
     "text": [
      "[14, 15, 16, 17, 18, 19, 20, 21, 22, 23, 24, 25, 26, 27, 28, 29, 30, 31, 32, 1, 2, 3, 4, 5, 6, 7, 8, 9, 10, 11, 12, 13]\n",
      "[29, 30, 31, 32, 1, 2, 3, 4, 5, 6, 7, 8, 9, 10, 11, 12, 13, 14, 15, 16, 17, 18, 19, 20, 21, 22, 23, 24, 25, 26, 27, 28]\n",
      "[26, 27, 28, 29, 30, 31, 32, 1, 2, 3, 4, 5, 6, 7, 8, 9, 10, 11, 12, 13, 14, 15, 16, 17, 18, 19, 20, 21, 22, 23, 24, 25]\n",
      "[30, 31, 32, 1, 2, 3, 4, 5, 6, 7, 8, 9, 10, 11, 12, 13, 14, 15, 16, 17, 18, 19, 20, 21, 22, 23, 24, 25, 26, 27, 28, 29]\n"
     ]
    }
   ],
   "source": [
    "alfabet = make_alfabet(letters)\n",
    "rev_alfabet = reverse_alfabet(letters)\n",
    "tabula = tabula_recta(alfabet, rev_alfabet, code_word='мышь')\n",
    "for l in tabula:\n",
    "    print(l)"
   ]
  },
  {
   "cell_type": "code",
   "execution_count": 108,
   "metadata": {},
   "outputs": [
    {
     "data": {
      "text/plain": [
       "'Мюйльмзйифевъйфж'"
      ]
     },
     "execution_count": 108,
     "metadata": {},
     "output_type": "execute_result"
    }
   ],
   "source": [
    "encryption_visioneer(letters, code_word='мышь', message='Агропромышленный')"
   ]
  },
  {
   "cell_type": "markdown",
   "metadata": {},
   "source": [
    "  Абвгдеёжзийклмнопрстуфхцчшщъыьэюя\n",
    " 1 мнопрстуфхцчшщъыьэюяабвгдеёжзийкл\n",
    " 2 ыьэюяабвгдеёжзийклмнопрстуфхцчшщъ\n",
    " 3 шщъыьэюяабвгдеёжзийклмнопрстуфхцч\n",
    " 4 ьэюяабвгдеёжзийклмнопрстуфхцчшщъы\n"
   ]
  },
  {
   "cell_type": "code",
   "execution_count": 116,
   "metadata": {},
   "outputs": [
    {
     "data": {
      "text/plain": [
       "'Биуънцднтфажбжрф'"
      ]
     },
     "execution_count": 116,
     "metadata": {},
     "output_type": "execute_result"
    }
   ],
   "source": [
    "gamma_encryption(message='Восторжествовать', code='3628')"
   ]
  },
  {
   "cell_type": "code",
   "execution_count": 117,
   "metadata": {},
   "outputs": [
    {
     "data": {
      "text/plain": [
       "'Восторжествовать'"
      ]
     },
     "execution_count": 117,
     "metadata": {},
     "output_type": "execute_result"
    }
   ],
   "source": [
    "gamma_encryption(message='Биуънцднтфажбжрф', code='3628')"
   ]
  }
 ],
 "metadata": {
  "kernelspec": {
   "display_name": "Python 3.9.12 ('base')",
   "language": "python",
   "name": "python3"
  },
  "language_info": {
   "codemirror_mode": {
    "name": "ipython",
    "version": 3
   },
   "file_extension": ".py",
   "mimetype": "text/x-python",
   "name": "python",
   "nbconvert_exporter": "python",
   "pygments_lexer": "ipython3",
   "version": "3.9.12"
  },
  "orig_nbformat": 4,
  "vscode": {
   "interpreter": {
    "hash": "e4e80707b481e58c1d1b3cfc76138e04fdb79389665970b31729766d2cb03c33"
   }
  }
 },
 "nbformat": 4,
 "nbformat_minor": 2
}
