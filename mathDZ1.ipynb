{
 "cells": [
  {
   "cell_type": "code",
   "execution_count": 58,
   "id": "59cdc210",
   "metadata": {},
   "outputs": [],
   "source": [
    "import numpy as np\n",
    "import matplotlib.pyplot as plt\n",
    "import sympy as sym"
   ]
  },
  {
   "cell_type": "code",
   "execution_count": 59,
   "id": "e9c33efd",
   "metadata": {},
   "outputs": [],
   "source": [
    "x = np.array([1, 1])\n",
    "y = np.array([2, 0])\n",
    "z = np.array([0, 2])"
   ]
  },
  {
   "cell_type": "code",
   "execution_count": 60,
   "id": "17a0347a",
   "metadata": {},
   "outputs": [],
   "source": [
    "xyz = x + y + z"
   ]
  },
  {
   "cell_type": "code",
   "execution_count": 61,
   "id": "1d4c9dda",
   "metadata": {},
   "outputs": [
    {
     "data": {
      "image/png": "[encoded data removed]",
      "text/plain": [
       "<Figure size 432x288 with 1 Axes>"
      ]
     },
     "metadata": {
      "needs_background": "light"
     },
     "output_type": "display_data"
    }
   ],
   "source": [
    "plt.figure()\n",
    "plt.plot(x[0], x[1], 'bo')\n",
    "plt.plot(y[0], y[1], 'ro')\n",
    "plt.plot(z[0], z[1], 'go')\n",
    "plt.plot(xyz[0], xyz[1], 'ko')\n",
    "plt.grid()\n",
    "plt.show()"
   ]
  },
  {
   "cell_type": "code",
   "execution_count": 62,
   "id": "831ebbb1",
   "metadata": {},
   "outputs": [
    {
     "data": {
      "text/plain": [
       "45.00000000000001"
      ]
     },
     "execution_count": 62,
     "metadata": {},
     "output_type": "execute_result"
    }
   ],
   "source": [
    "np.rad2deg(np.arccos(np.dot(x, y) / (np.linalg.norm(x) * np.linalg.norm(y))))"
   ]
  },
  {
   "cell_type": "code",
   "execution_count": 63,
   "id": "f500ed71",
   "metadata": {},
   "outputs": [
    {
     "data": {
      "text/plain": [
       "array([[1, 2, 3],\n",
       "       [4, 5, 6],\n",
       "       [7, 8, 9]])"
      ]
     },
     "execution_count": 63,
     "metadata": {},
     "output_type": "execute_result"
    }
   ],
   "source": [
    "m = np.array([[1, 2, 3],\n",
    "              [4, 5, 6],\n",
    "              [7, 8, 9]])\n",
    "m"
   ]
  },
  {
   "cell_type": "code",
   "execution_count": 64,
   "id": "26f1e087",
   "metadata": {},
   "outputs": [
    {
     "data": {
      "text/plain": [
       "array([[ 2.,  2.,  3.],\n",
       "       [ 4.,  6.,  6.],\n",
       "       [ 7.,  8., 10.]])"
      ]
     },
     "execution_count": 64,
     "metadata": {},
     "output_type": "execute_result"
    }
   ],
   "source": [
    "m1 = m + np.eye(3)\n",
    "m1"
   ]
  },
  {
   "cell_type": "code",
   "execution_count": 65,
   "id": "8c1cbbed",
   "metadata": {},
   "outputs": [
    {
     "data": {
      "text/plain": [
       "array([31., 38., 45.])"
      ]
     },
     "execution_count": 65,
     "metadata": {},
     "output_type": "execute_result"
    }
   ],
   "source": [
    "np.dot(np.array([1, 2, 3]), m1)"
   ]
  },
  {
   "cell_type": "code",
   "execution_count": 66,
   "id": "75801274",
   "metadata": {},
   "outputs": [
    {
     "data": {
      "text/plain": [
       "array([[ 2.,  4.,  9.],\n",
       "       [ 4., 12., 18.],\n",
       "       [ 7., 16., 30.]])"
      ]
     },
     "execution_count": 66,
     "metadata": {},
     "output_type": "execute_result"
    }
   ],
   "source": [
    "m1 * np.array([1, 2, 3])"
   ]
  },
  {
   "cell_type": "code",
   "execution_count": 67,
   "id": "73504e52",
   "metadata": {},
   "outputs": [],
   "source": [
    "t = sym.Symbol('t')"
   ]
  },
  {
   "cell_type": "code",
   "execution_count": 70,
   "id": "55f5a83b",
   "metadata": {},
   "outputs": [
    {
     "data": {
      "text/latex": [
       "$\\displaystyle 3 t \\left(t^{2} + t\\right)^{3}$"
      ],
      "text/plain": [
       "3*t*(t**2 + t)**3"
      ]
     },
     "execution_count": 70,
     "metadata": {},
     "output_type": "execute_result"
    }
   ],
   "source": [
    "f = 3*t * (t**2 + t)**3\n",
    "f"
   ]
  },
  {
   "cell_type": "code",
   "execution_count": 81,
   "id": "2843ac3d",
   "metadata": {},
   "outputs": [
    {
     "data": {
      "text/latex": [
       "$\\displaystyle 3 t \\left(6 t + 3\\right) \\left(t^{2} + t\\right)^{2} + 3 \\left(t^{2} + t\\right)^{3}$"
      ],
      "text/plain": [
       "3*t*(6*t + 3)*(t**2 + t)**2 + 3*(t**2 + t)**3"
      ]
     },
     "execution_count": 81,
     "metadata": {},
     "output_type": "execute_result"
    }
   ],
   "source": [
    "sym.diff(f, t, 1)"
   ]
  },
  {
   "cell_type": "code",
   "execution_count": null,
   "id": "5186bfc5",
   "metadata": {},
   "outputs": [],
   "source": []
  }
 ],
 "metadata": {
  "kernelspec": {
   "display_name": "Python 3",
   "language": "python",
   "name": "python3"
  },
  "language_info": {
   "codemirror_mode": {
    "name": "ipython",
    "version": 3
   },
   "file_extension": ".py",
   "mimetype": "text/x-python",
   "name": "python",
   "nbconvert_exporter": "python",
   "pygments_lexer": "ipython3",
   "version": "3.8.8"
  }
 },
 "nbformat": 4,
 "nbformat_minor": 5
}
